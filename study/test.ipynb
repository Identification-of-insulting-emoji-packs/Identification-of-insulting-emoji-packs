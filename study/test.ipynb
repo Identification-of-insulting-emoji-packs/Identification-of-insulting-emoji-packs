{
 "cells": [
  {
   "cell_type": "code",
   "execution_count": 1,
   "metadata": {},
   "outputs": [],
   "source": [
    "\n",
    "import keras\n",
    "from keras import layers\n",
    "import matplotlib.pyplot as plt\n",
    "import numpy as np\n",
    "import keras.datasets.mnist as mnist\n"
   ]
  },
  {
   "cell_type": "code",
   "execution_count": 2,
   "metadata": {},
   "outputs": [
    {
     "name": "stdout",
     "output_type": "stream",
     "text": [
      "(60000, 28, 28)\n",
      "efe\n"
     ]
    },
    {
     "data": {
      "image/png": "[encoded data removed]",
      "text/plain": [
       "<Figure size 640x480 with 1 Axes>"
      ]
     },
     "metadata": {},
     "output_type": "display_data"
    },
    {
     "name": "stdout",
     "output_type": "stream",
     "text": [
      "5\n",
      "eee\n"
     ]
    }
   ],
   "source": [
    "\n",
    "\n",
    "(train_image,train_label),(test_image,test_label) = mnist.load_data()\n",
    "print(train_image.shape)\n",
    "print('efe')\n",
    "plt.imshow(train_image[0])\n",
    "plt.show()\n",
    "print(train_label[0])\n",
    "print('eee')\n",
    "\n"
   ]
  },
  {
   "cell_type": "code",
   "execution_count": 5,
   "metadata": {},
   "outputs": [
    {
     "name": "stdout",
     "output_type": "stream",
     "text": [
      "<class 'numpy.ndarray'>\n"
     ]
    }
   ],
   "source": [
    "print(type(train_image))"
   ]
  },
  {
   "cell_type": "code",
   "execution_count": 6,
   "metadata": {},
   "outputs": [
    {
     "name": "stdout",
     "output_type": "stream",
     "text": [
      "Epoch 1/50\n",
      "118/118 [==============================] - 1s 5ms/step - loss: 13.2370 - acc: 0.7661\n",
      "Epoch 2/50\n",
      "118/118 [==============================] - 1s 4ms/step - loss: 2.4288 - acc: 0.8789\n",
      "Epoch 3/50\n",
      "118/118 [==============================] - 0s 4ms/step - loss: 1.3859 - acc: 0.8913\n",
      "Epoch 4/50\n",
      "118/118 [==============================] - 1s 5ms/step - loss: 0.8629 - acc: 0.8850\n",
      "Epoch 5/50\n",
      "118/118 [==============================] - 1s 7ms/step - loss: 0.6139 - acc: 0.8879\n",
      "Epoch 6/50\n",
      "118/118 [==============================] - 1s 6ms/step - loss: 0.4872 - acc: 0.9020\n",
      "Epoch 7/50\n",
      "118/118 [==============================] - 1s 8ms/step - loss: 0.4066 - acc: 0.9121\n",
      "Epoch 8/50\n",
      "118/118 [==============================] - 1s 7ms/step - loss: 0.3562 - acc: 0.9204\n",
      "Epoch 9/50\n",
      "118/118 [==============================] - 1s 6ms/step - loss: 0.3079 - acc: 0.9282\n",
      "Epoch 10/50\n",
      "118/118 [==============================] - 1s 7ms/step - loss: 0.2745 - acc: 0.9336\n",
      "Epoch 11/50\n",
      "118/118 [==============================] - 1s 7ms/step - loss: 0.2505 - acc: 0.9380\n",
      "Epoch 12/50\n",
      "118/118 [==============================] - 1s 5ms/step - loss: 0.2295 - acc: 0.9421\n",
      "Epoch 13/50\n",
      "118/118 [==============================] - 1s 6ms/step - loss: 0.2099 - acc: 0.9453\n",
      "Epoch 14/50\n",
      "118/118 [==============================] - 1s 6ms/step - loss: 0.1931 - acc: 0.9482\n",
      "Epoch 15/50\n",
      "118/118 [==============================] - 1s 6ms/step - loss: 0.1783 - acc: 0.9520\n",
      "Epoch 16/50\n",
      "118/118 [==============================] - 1s 6ms/step - loss: 0.1691 - acc: 0.9537\n",
      "Epoch 17/50\n",
      "118/118 [==============================] - 1s 6ms/step - loss: 0.1575 - acc: 0.9559\n",
      "Epoch 18/50\n",
      "118/118 [==============================] - 1s 6ms/step - loss: 0.1496 - acc: 0.9583\n",
      "Epoch 19/50\n",
      "118/118 [==============================] - 1s 6ms/step - loss: 0.1421 - acc: 0.9592\n",
      "Epoch 20/50\n",
      "118/118 [==============================] - 1s 6ms/step - loss: 0.1357 - acc: 0.9605\n",
      "Epoch 21/50\n",
      "118/118 [==============================] - 1s 6ms/step - loss: 0.1235 - acc: 0.9639\n",
      "Epoch 22/50\n",
      "118/118 [==============================] - 1s 6ms/step - loss: 0.1184 - acc: 0.9648\n",
      "Epoch 23/50\n",
      "118/118 [==============================] - 1s 6ms/step - loss: 0.1102 - acc: 0.9663\n",
      "Epoch 24/50\n",
      "118/118 [==============================] - 1s 7ms/step - loss: 0.1066 - acc: 0.9672\n",
      "Epoch 25/50\n",
      "118/118 [==============================] - 1s 7ms/step - loss: 0.1033 - acc: 0.9682\n",
      "Epoch 26/50\n",
      "118/118 [==============================] - 1s 6ms/step - loss: 0.1019 - acc: 0.9683\n",
      "Epoch 27/50\n",
      "118/118 [==============================] - 1s 7ms/step - loss: 0.0935 - acc: 0.9710\n",
      "Epoch 28/50\n",
      "118/118 [==============================] - 1s 7ms/step - loss: 0.0941 - acc: 0.9708\n",
      "Epoch 29/50\n",
      "118/118 [==============================] - 1s 6ms/step - loss: 0.0937 - acc: 0.9704\n",
      "Epoch 30/50\n",
      "118/118 [==============================] - 1s 7ms/step - loss: 0.0939 - acc: 0.9707\n",
      "Epoch 31/50\n",
      "118/118 [==============================] - 1s 7ms/step - loss: 0.0877 - acc: 0.9728\n",
      "Epoch 32/50\n",
      "118/118 [==============================] - 1s 7ms/step - loss: 0.0843 - acc: 0.9732\n",
      "Epoch 33/50\n",
      "118/118 [==============================] - 1s 6ms/step - loss: 0.0794 - acc: 0.9750\n",
      "Epoch 34/50\n",
      "118/118 [==============================] - 1s 7ms/step - loss: 0.0858 - acc: 0.9726\n",
      "Epoch 35/50\n",
      "118/118 [==============================] - 1s 7ms/step - loss: 0.0847 - acc: 0.9731\n",
      "Epoch 36/50\n",
      "118/118 [==============================] - 1s 7ms/step - loss: 0.0770 - acc: 0.9764\n",
      "Epoch 37/50\n",
      "118/118 [==============================] - 1s 7ms/step - loss: 0.0745 - acc: 0.9760\n",
      "Epoch 38/50\n",
      "118/118 [==============================] - 1s 6ms/step - loss: 0.0708 - acc: 0.9775\n",
      "Epoch 39/50\n",
      "118/118 [==============================] - 1s 6ms/step - loss: 0.0718 - acc: 0.9775\n",
      "Epoch 40/50\n",
      "118/118 [==============================] - 1s 6ms/step - loss: 0.0707 - acc: 0.9773\n",
      "Epoch 41/50\n",
      "118/118 [==============================] - 1s 6ms/step - loss: 0.0689 - acc: 0.9785\n",
      "Epoch 42/50\n",
      "118/118 [==============================] - 1s 6ms/step - loss: 0.0777 - acc: 0.9768\n",
      "Epoch 43/50\n",
      "118/118 [==============================] - 1s 6ms/step - loss: 0.0777 - acc: 0.9756\n",
      "Epoch 44/50\n",
      "118/118 [==============================] - 1s 7ms/step - loss: 0.0727 - acc: 0.9779\n",
      "Epoch 45/50\n",
      "118/118 [==============================] - 1s 6ms/step - loss: 0.0652 - acc: 0.9794\n",
      "Epoch 46/50\n",
      "118/118 [==============================] - 1s 6ms/step - loss: 0.0660 - acc: 0.9796\n",
      "Epoch 47/50\n",
      "118/118 [==============================] - 1s 7ms/step - loss: 0.0627 - acc: 0.9800\n",
      "Epoch 48/50\n",
      "118/118 [==============================] - 1s 6ms/step - loss: 0.0601 - acc: 0.9810\n",
      "Epoch 49/50\n",
      "118/118 [==============================] - 1s 7ms/step - loss: 0.0563 - acc: 0.9822\n",
      "Epoch 50/50\n",
      "118/118 [==============================] - 1s 7ms/step - loss: 0.0671 - acc: 0.9791\n",
      "313/313 [==============================] - 1s 2ms/step - loss: 0.3993 - acc: 0.9500\n",
      "1/1 [==============================] - 0s 133ms/step\n",
      "原始： [7 2 1 0 4 1 4 9 5 9]\n",
      "结果： [7 2 1 0 4 1 4 9 5 9]\n"
     ]
    }
   ],
   "source": [
    "model = keras.Sequential()#初始化\n",
    "model.add(layers.Flatten())\n",
    "model.add(layers.Dense(64,activation='relu'))\n",
    "model.add(layers.Dense(10,activation='softmax'))\n",
    "model.compile(optimizer='adam',\n",
    "              loss = 'sparse_categorical_crossentropy',\n",
    "              metrics=['acc'])\n",
    "model.fit(train_image,train_label,epochs=50,batch_size = 512)\n",
    "\n",
    "model.evaluate(test_image,test_label)\n",
    "y = np.argmax(model.predict(test_image[:10]),axis=1)\n",
    "print('原始：',y)\n",
    "print('结果：',test_label[:10])"
   ]
  },
  {
   "cell_type": "code",
   "execution_count": null,
   "metadata": {},
   "outputs": [],
   "source": []
  }
 ],
 "metadata": {
  "kernelspec": {
   "display_name": "base",
   "language": "python",
   "name": "python3"
  },
  "language_info": {
   "codemirror_mode": {
    "name": "ipython",
    "version": 3
   },
   "file_extension": ".py",
   "mimetype": "text/x-python",
   "name": "python",
   "nbconvert_exporter": "python",
   "pygments_lexer": "ipython3",
   "version": "3.10.9"
  }
 },
 "nbformat": 4,
 "nbformat_minor": 2
}
