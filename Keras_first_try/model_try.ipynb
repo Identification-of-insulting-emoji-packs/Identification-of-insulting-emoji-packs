{
 "cells": [
  {
   "cell_type": "code",
   "execution_count": 25,
   "metadata": {},
   "outputs": [],
   "source": [
    "import keras\n",
    "from PIL import Image\n",
    "from keras import layers\n",
    "import matplotlib.pyplot as plt\n",
    "import numpy as np\n",
    "import cv2\n",
    "import tensorflow as tf"
   ]
  },
  {
   "cell_type": "code",
   "execution_count": 34,
   "metadata": {},
   "outputs": [
    {
     "name": "stdout",
     "output_type": "stream",
     "text": [
      "./Data_20240124_sorted_small/insulting/1.jpg\n",
      "Failed to load image. or not exist\n",
      "./Data_20240124_sorted_small/insulting/2.jpg\n",
      "Failed to load image. or not exist\n",
      "./Data_20240124_sorted_small/insulting/3.jpg\n",
      "Failed to load image. or not exist\n",
      "./Data_20240124_sorted_small/insulting/4.jpg\n",
      "Failed to load image. or not exist\n",
      "./Data_20240124_sorted_small/insulting/5.jpg\n",
      "Failed to load image. or not exist\n",
      "./Data_20240124_sorted_small/insulting/6.jpg\n",
      "Failed to load image. or not exist\n",
      "./Data_20240124_sorted_small/insulting/7.jpg\n",
      "Failed to load image. or not exist\n",
      "./Data_20240124_sorted_small/insulting/8.jpg\n",
      "Failed to load image. or not exist\n",
      "./Data_20240124_sorted_small/insulting/9.jpg\n",
      "Failed to load image. or not exist\n",
      "./Data_20240124_sorted_small/uninsulting/1.jpg\n",
      "Failed to load image. or not exist\n",
      "./Data_20240124_sorted_small/uninsulting/2.jpg\n",
      "./Data_20240124_sorted_small/uninsulting/3.jpg\n",
      "./Data_20240124_sorted_small/uninsulting/4.jpg\n",
      "./Data_20240124_sorted_small/uninsulting/5.jpg\n",
      "./Data_20240124_sorted_small/uninsulting/6.jpg\n",
      "Failed to load image. or not exist\n",
      "./Data_20240124_sorted_small/uninsulting/7.jpg\n",
      "Failed to load image. or not exist\n",
      "./Data_20240124_sorted_small/uninsulting/8.jpg\n",
      "Failed to load image. or not exist\n",
      "./Data_20240124_sorted_small/uninsulting/9.jpg\n",
      "Failed to load image. or not exist\n"
     ]
    }
   ],
   "source": [
    "train_image = [None] * 203\n",
    "train_label = [None] * 203\n",
    "#创建数据集列表\n",
    "data_amount = 0\n",
    "\n",
    "#insulting\n",
    "for i in range(1,10):\n",
    "    data_place_one = './Data_20240124_sorted_small/insulting/' + str(i) + '.jpg'\n",
    "    print(data_place_one)\n",
    "    img_2 = cv2.imread(data_place_one)\n",
    "    if img_2 is not None:\n",
    "        data_amount += 1\n",
    "        train_image[i-1] = np.array(img_2)\n",
    "        train_label[i-1] = 1\n",
    "    else:\n",
    "        print(\"Failed to load image. or not exist\")\n",
    "\n",
    "#uninsulting\n",
    "for i in range(1,10):\n",
    "    data_place_one = './Data_20240124_sorted_small/uninsulting/' + str(i) + '.jpg'\n",
    "    print(data_place_one)\n",
    "    img_2 = cv2.imread(data_place_one)\n",
    "    if img_2 is not None:\n",
    "        data_amount += 1\n",
    "        train_image[i-1] = np.array(img_2)\n",
    "        train_label[i-1] = 0\n",
    "    else:\n",
    "        print(\"Failed to load image. or not exist\")\n",
    "#print(img)"
   ]
  },
  {
   "cell_type": "code",
   "execution_count": 35,
   "metadata": {},
   "outputs": [],
   "source": [
    "#删除空值\n",
    "train_label = [x for x in train_label if x != None]\n",
    "train_image = [x for x in train_image if np.any(x)]"
   ]
  },
  {
   "cell_type": "code",
   "execution_count": 38,
   "metadata": {},
   "outputs": [],
   "source": [
    "#转换为np数组\n",
    "train_label = np.array(train_label)\n",
    "train_image = np.array(train_image)\n"
   ]
  },
  {
   "cell_type": "code",
   "execution_count": 39,
   "metadata": {},
   "outputs": [
    {
     "name": "stdout",
     "output_type": "stream",
     "text": [
      "<class 'numpy.ndarray'>\n"
     ]
    }
   ],
   "source": [
    "train_labels =np.zeros(170)\n",
    "print(type(train_labels))"
   ]
  },
  {
   "cell_type": "code",
   "execution_count": 40,
   "metadata": {},
   "outputs": [
    {
     "name": "stdout",
     "output_type": "stream",
     "text": [
      "(4,)\n"
     ]
    }
   ],
   "source": [
    "print(np.shape(train_image))"
   ]
  },
  {
   "cell_type": "code",
   "execution_count": 41,
   "metadata": {},
   "outputs": [
    {
     "data": {
      "text/plain": [
       "'train_label = [x.astype(np.int64) for x in train_label]\\ntrain_image = [x.astype(np.int64) for x in train_image]\\n#train_image = train_image.astype(np.int64)\\n#train_label = train_label.astype(np.int64)'"
      ]
     },
     "execution_count": 41,
     "metadata": {},
     "output_type": "execute_result"
    }
   ],
   "source": [
    "'''train_label = [x.astype(np.int64) for x in train_label]\n",
    "train_image = [x.astype(np.int64) for x in train_image]\n",
    "#train_image = train_image.astype(np.int64)\n",
    "#train_label = train_label.astype(np.int64)'''"
   ]
  },
  {
   "cell_type": "code",
   "execution_count": 45,
   "metadata": {},
   "outputs": [
    {
     "name": "stdout",
     "output_type": "stream",
     "text": [
      "<class 'numpy.ndarray'>\n"
     ]
    }
   ],
   "source": [
    "print(type(train_image))"
   ]
  },
  {
   "cell_type": "code",
   "execution_count": 52,
   "metadata": {},
   "outputs": [
    {
     "name": "stderr",
     "output_type": "stream",
     "text": [
      "C:\\Users\\Victor\\AppData\\Local\\Temp\\ipykernel_22308\\3155714614.py:1: VisibleDeprecationWarning: Creating an ndarray from ragged nested sequences (which is a list-or-tuple of lists-or-tuples-or ndarrays with different lengths or shapes) is deprecated. If you meant to do this, you must specify 'dtype=object' when creating the ndarray.\n",
      "  train_image = np.array([[1,2],[12,3],[12,3],[12,12,12]])\n"
     ]
    }
   ],
   "source": [
    "train_image = np.array([[1,2],[12,3],[12,3],[12,12,12]])"
   ]
  },
  {
   "cell_type": "code",
   "execution_count": 53,
   "metadata": {},
   "outputs": [
    {
     "ename": "ValueError",
     "evalue": "Failed to convert a NumPy array to a Tensor (Unsupported object type list).",
     "output_type": "error",
     "traceback": [
      "\u001b[1;31m---------------------------------------------------------------------------\u001b[0m",
      "\u001b[1;31mValueError\u001b[0m                                Traceback (most recent call last)",
      "Cell \u001b[1;32mIn[53], line 7\u001b[0m\n\u001b[0;32m      3\u001b[0m model\u001b[38;5;241m.\u001b[39madd(layers\u001b[38;5;241m.\u001b[39mDense(\u001b[38;5;241m64\u001b[39m,activation\u001b[38;5;241m=\u001b[39m\u001b[38;5;124m'\u001b[39m\u001b[38;5;124mrelu\u001b[39m\u001b[38;5;124m'\u001b[39m))\n\u001b[0;32m      4\u001b[0m model\u001b[38;5;241m.\u001b[39mcompile(optimizer\u001b[38;5;241m=\u001b[39m\u001b[38;5;124m'\u001b[39m\u001b[38;5;124madam\u001b[39m\u001b[38;5;124m'\u001b[39m,\n\u001b[0;32m      5\u001b[0m               loss \u001b[38;5;241m=\u001b[39m \u001b[38;5;124m'\u001b[39m\u001b[38;5;124msparse_categorical_crossentropy\u001b[39m\u001b[38;5;124m'\u001b[39m,\n\u001b[0;32m      6\u001b[0m               metrics\u001b[38;5;241m=\u001b[39m[\u001b[38;5;124m'\u001b[39m\u001b[38;5;124macc\u001b[39m\u001b[38;5;124m'\u001b[39m])\n\u001b[1;32m----> 7\u001b[0m \u001b[43mmodel\u001b[49m\u001b[38;5;241;43m.\u001b[39;49m\u001b[43mfit\u001b[49m\u001b[43m(\u001b[49m\u001b[43mtrain_image\u001b[49m\u001b[43m,\u001b[49m\u001b[43mtrain_label\u001b[49m\u001b[43m,\u001b[49m\u001b[43mepochs\u001b[49m\u001b[38;5;241;43m=\u001b[39;49m\u001b[38;5;241;43m50\u001b[39;49m\u001b[43m,\u001b[49m\u001b[43mbatch_size\u001b[49m\u001b[43m \u001b[49m\u001b[38;5;241;43m=\u001b[39;49m\u001b[43m \u001b[49m\u001b[38;5;241;43m512\u001b[39;49m\u001b[43m)\u001b[49m\n",
      "File \u001b[1;32m~\\AppData\\Roaming\\Python\\Python310\\site-packages\\keras\\src\\utils\\traceback_utils.py:70\u001b[0m, in \u001b[0;36mfilter_traceback.<locals>.error_handler\u001b[1;34m(*args, **kwargs)\u001b[0m\n\u001b[0;32m     67\u001b[0m     filtered_tb \u001b[38;5;241m=\u001b[39m _process_traceback_frames(e\u001b[38;5;241m.\u001b[39m__traceback__)\n\u001b[0;32m     68\u001b[0m     \u001b[38;5;66;03m# To get the full stack trace, call:\u001b[39;00m\n\u001b[0;32m     69\u001b[0m     \u001b[38;5;66;03m# `tf.debugging.disable_traceback_filtering()`\u001b[39;00m\n\u001b[1;32m---> 70\u001b[0m     \u001b[38;5;28;01mraise\u001b[39;00m e\u001b[38;5;241m.\u001b[39mwith_traceback(filtered_tb) \u001b[38;5;28;01mfrom\u001b[39;00m \u001b[38;5;28mNone\u001b[39m\n\u001b[0;32m     71\u001b[0m \u001b[38;5;28;01mfinally\u001b[39;00m:\n\u001b[0;32m     72\u001b[0m     \u001b[38;5;28;01mdel\u001b[39;00m filtered_tb\n",
      "File \u001b[1;32m~\\AppData\\Roaming\\Python\\Python310\\site-packages\\tensorflow\\python\\framework\\constant_op.py:98\u001b[0m, in \u001b[0;36mconvert_to_eager_tensor\u001b[1;34m(value, ctx, dtype)\u001b[0m\n\u001b[0;32m     96\u001b[0m     dtype \u001b[38;5;241m=\u001b[39m dtypes\u001b[38;5;241m.\u001b[39mas_dtype(dtype)\u001b[38;5;241m.\u001b[39mas_datatype_enum\n\u001b[0;32m     97\u001b[0m ctx\u001b[38;5;241m.\u001b[39mensure_initialized()\n\u001b[1;32m---> 98\u001b[0m \u001b[38;5;28;01mreturn\u001b[39;00m \u001b[43mops\u001b[49m\u001b[38;5;241;43m.\u001b[39;49m\u001b[43mEagerTensor\u001b[49m\u001b[43m(\u001b[49m\u001b[43mvalue\u001b[49m\u001b[43m,\u001b[49m\u001b[43m \u001b[49m\u001b[43mctx\u001b[49m\u001b[38;5;241;43m.\u001b[39;49m\u001b[43mdevice_name\u001b[49m\u001b[43m,\u001b[49m\u001b[43m \u001b[49m\u001b[43mdtype\u001b[49m\u001b[43m)\u001b[49m\n",
      "\u001b[1;31mValueError\u001b[0m: Failed to convert a NumPy array to a Tensor (Unsupported object type list)."
     ]
    }
   ],
   "source": [
    "model = keras.Sequential()#初始化\n",
    "model.add(layers.Flatten())\n",
    "model.add(layers.Dense(64,activation='relu'))\n",
    "model.compile(optimizer='adam',\n",
    "              loss = 'sparse_categorical_crossentropy',\n",
    "              metrics=['acc'])\n",
    "model.fit(train_image,train_label,epochs=50,batch_size = 512)\n"
   ]
  },
  {
   "cell_type": "code",
   "execution_count": null,
   "metadata": {},
   "outputs": [],
   "source": []
  }
 ],
 "metadata": {
  "kernelspec": {
   "display_name": "base",
   "language": "python",
   "name": "python3"
  },
  "language_info": {
   "codemirror_mode": {
    "name": "ipython",
    "version": 3
   },
   "file_extension": ".py",
   "mimetype": "text/x-python",
   "name": "python",
   "nbconvert_exporter": "python",
   "pygments_lexer": "ipython3",
   "version": "3.10.9"
  }
 },
 "nbformat": 4,
 "nbformat_minor": 2
}
