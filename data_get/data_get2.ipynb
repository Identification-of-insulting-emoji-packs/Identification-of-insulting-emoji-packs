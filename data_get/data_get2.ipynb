{
 "cells": [
  {
   "cell_type": "code",
   "execution_count": 2,
   "metadata": {},
   "outputs": [],
   "source": [
    "import requests\n",
    "import re\n",
    "import os"
   ]
  },
  {
   "cell_type": "code",
   "execution_count": 22,
   "metadata": {},
   "outputs": [
    {
     "name": "stdout",
     "output_type": "stream",
     "text": [
      "{'User-Agent': 'Mozilla/5.0 (Windows NT 10.0; Win64; x64; rv:98.0) Gecko/20100101 Firefox/98.0', 'Accept-Encoding': 'gzip, deflate, br', 'Accept': '*/*', 'Connection': 'keep-alive'}\n",
      "200\n"
     ]
    }
   ],
   "source": [
    "image = 'data_20240113t1436'\n",
    "if not os.path.exists(image):\n",
    "    os.mkdir(image)\n",
    "headers = {\n",
    "    'User-Agent': 'Mozilla/5.0 (Windows NT 10.0; Win64; x64; rv:98.0) Gecko/20100101 Firefox/98.0'\n",
    "    }\n",
    "url = 'https://qq.yh31.com/zjbq/List_4.html'\n",
    "response = requests.get(url ,headers=headers)\n",
    "response.encoding = 'GBK'\n",
    "response.encoding = 'utf-8'\n",
    "print(response.request.headers)\n",
    "print(response.status_code)"
   ]
  },
  {
   "cell_type": "code",
   "execution_count": 23,
   "metadata": {},
   "outputs": [
    {
     "name": "stdout",
     "output_type": "stream",
     "text": [
      "[('https://qq.yh31.com/tp/Photo7/ZJBQ/201012/201012081129589972.gif', '辛巴狗和哈米兔表情大全'), ('https://qq.yh31.com/tp/Photo7/ZJBQ/201012/201012071242390779.gif', '小时QQ表情大全，小时QQ聊天图片'), ('https://qq.yh31.com/tp/Photo7/ZJBQ/201012/201012071233295187.gif', '小王子可爱男仔QQ图片'), ('https://qq.yh31.com/tp/Photo7/ZJBQ/201012/201012071208314209.gif', '羊羊男孩搞笑QQ表情'), ('https://qq.yh31.com/tp/Photo7/ZJBQ/201012/201012070855220852.gif', '酷巴熊全套QQ表情'), ('https://qq.yh31.com/tp/Photo7/ZJBQ/201012/201012061155405550.gif', '螃蟹大人的兔子QQ表情'), ('https://qq.yh31.com/tp/Photo7/ZJBQ/201012/201012060927508430.gif', '呼呼QQ表情包下载'), ('https://qq.yh31.com/tp/Photo7/ZJBQ/201012/201012060925136163.gif', 'AYA男孩可爱图片大全'), ('https://qq.yh31.com/tp/Photo7/ZJBQ/201012/201012041142144506.gif', '囧脸小人搞笑QQ表情'), ('https://qq.yh31.com/tp/Photo7/ZJBQ/201012/201012101006085867.jpg', '死神动漫人物图片'), ('https://qq.yh31.com/tp/Photo7/ZJBQ/201012/201012030933154364.gif', '布耳朵搞笑图片大全'), ('https://qq.yh31.com/tp/Photo7/ZJBQ/201011/201011300828560579.gif', '英雄岛角色动态图片'), ('https://qq.yh31.com/tp/Photo7/ZJBQ/201011/201011300822523891.gif', '张小饭搞笑QQ表情图片'), ('https://qq.yh31.com/tp/Photo7/ZJBQ/201011/201011280747425571.gif', 'pinkygirl表情图片下载'), ('https://qq.yh31.com/tp/Photo7/ZJBQ/201011/201011280740419031.gif', '可爱的落鸟QQ表情'), ('https://qq.yh31.com/tp/Photo7/ZJBQ/201011/201011280618036536.gif', 'Moc仔仔QQ表情，开心得意的Moc仔仔图片'), ('https://qq.yh31.com/tp/Photo7/ZJBQ/201011/201011260931183451.gif', '浣熊QQ表情下载'), ('https://qq.yh31.com/tp/Photo7/ZJBQ/201011/201011260926296959.gif', '线条猫咪动态QQ图片'), ('https://qq.yh31.com/tp/Photo7/ZJBQ/201011/201011260907145336.gif', '大眼鸟qq表情专题'), ('https://qq.yh31.com/tp/Photo7/ZJBQ/201011/201011260902301782.gif', '热血豆子搞笑图片大全'), ('https://qq.yh31.com/tp/Photo7/ZJBQ/201011/201011260859094989.gif', '比卡猪动态qq表情大全'), ('https://qq.yh31.com/tp/Photo7/ZJBQ/201011/201011260857094862.gif', '功夫小人搞笑动态QQ表情'), ('https://qq.yh31.com/tp/Photo7/ZJBQ/201011/201011260852253225.gif', '可爱的木木搞笑图片表情'), ('https://qq.yh31.com/tp/Photo7/ZJBQ/201011/201011260849033867.gif', '熊猫捷安特QQ表情'), ('https://qq.yh31.com/tp/Photo7/ZJBQ/201011/201011250847264544.gif', '可爱飘飘虫QQ表情图片'), ('https://qq.yh31.com/tp/Photo7/ZJBQ/201011/201011200041351394.gif', '妮娜猫QQ表情包下载'), ('https://qq.yh31.com/tp/Photo7/ZJBQ/201011/201011200037392581.gif', '棕熊聊天QQ表情图片'), ('https://qq.yh31.com/tp/Photo7/ZJBQ/201011/201011200026270875.gif', '诛仙2百变小狐搞笑图片'), ('https://qq.yh31.com/tp/Photo7/ZJBQ/201011/201011200023427287.gif', '小若熊QQ聊天表情包'), ('https://qq.yh31.com/tp/Photo7/ZJBQ/201011/201011200020139176.gif', '看灰鸡搞笑图片大全'), ('https://qq.yh31.com/tp/Photo7/ZJBQ/201011/201011160955493314.gif', '姜小蛋搞笑图片大全'), ('https://qq.yh31.com/tp/Photo7/ZJBQ/201011/201011160928110790.gif', '蜜兔全套动态QQ图片'), ('https://qq.yh31.com/tp/Photo7/ZJBQ/201011/201011160926229589.gif', '佑兔搞笑QQ表情包'), ('https://qq.yh31.com/tp/Photo7/ZJBQ/201011/201011160924509785.gif', 'mumu牛聊天图片大全'), ('https://qq.yh31.com/tp/Photo7/ZJBQ/201011/201011160923133044.gif', '小白虎动态图片大全'), ('https://qq.yh31.com/tp/Photo7/ZJBQ/201011/201011160921079413.gif', '无敌兔兔搞笑QQ表情'), ('https://qq.yh31.com/tp/Photo7/ZJBQ/201011/201011160756156506.gif', '猥琐黑猫搞笑图片'), ('https://qq.yh31.com/tp/Photo7/ZJBQ/201011/201011150857419408.gif', '初音MIKU漫画图片大全'), ('https://qq.yh31.com/tp/Photo7/ZJBQ/201011/201011121009552872.gif', '精品兜兜QQ表情大全，网店兜兜QQ图片'), ('https://qq.yh31.com/tp/Photo7/ZJBQ/201011/201011101056383775.jpg', '李由美动态QQ表情，韩国可爱调皮女主持人'), ('https://qq.yh31.com/tp/Photo7/ZJBQ/201011/201011081131385930.gif', '搞怪狗达QQ表情大全'), ('https://qq.yh31.com/tp/Photo7/ZJBQ/201011/201011081130116506.gif', '可爱兜兜搞笑QQ表情'), ('https://qq.yh31.com/tp/Photo7/ZJBQ/201011/201011081127437129.gif', '可爱猴子QQ表情图片'), ('https://qq.yh31.com/tp/Photo7/ZJBQ/201011/201011070838503398.gif', '魔虫QQ表情下载'), ('https://qq.yh31.com/tp/Photo7/ZJBQ/201011/201011060906175416.gif', '逍遥生动漫人物图片'), ('https://qq.yh31.com/tp/Photo7/ZJBQ/201011/201011060856453131.gif', '阿布娃娃QQ表情，好玩的阿布娃娃女生图片'), ('https://qq.yh31.com/tp/Photo7/ZJBQ/201011/201011060842402170.gif', '小麦QQ表情专题，迷你小麦搞笑图片'), ('https://qq.yh31.com/tp/Photo7/ZJBQ/201011/201011060832549347.gif', '龙与虎漫画图片大全'), ('https://qq.yh31.com/tp/Photo7/ZJBQ/201011/201011060830205650.gif', '旋风管家搞笑动态图片'), ('https://qq.yh31.com/tp/Photo7/ZJBQ/201011/201011060828234086.gif', '企鹅娘动漫QQ表情大全'), ('https://qq.yh31.com/tp/Photo7/ZJBQ/201011/201011051057559354.gif', '巫女QQ表情图片大全'), ('https://qq.yh31.com/tp/Photo7/ZJBQ/201011/201011051053005997.gif', '幸运星QQ表情包，幸运星动漫人物图片'), ('https://qq.yh31.com/tp/Photo7/ZJBQ/201011/201011051041152200.gif', '银魂动漫人物图片'), ('https://qq.yh31.com/tp/Photo7/ZJBQ/201011/201011051038546007.gif', '樱兰高校男公关部动态图片'), ('https://qq.yh31.com/tp/Photo7/ZJBQ/201011/201011051037156589.gif', 'COCO圆头搞笑QQ图片'), ('https://qq.yh31.com/tp/Photo7/ZJBQ/201011/201011040651220375.gif', 'Y星人搞笑QQ表情图片'), ('https://qq.yh31.com/tp/Photo7/ZJBQ/201011/201011040648277303.gif', '水查子女生漫画图片'), ('https://qq.yh31.com/tp/Photo7/ZJBQ/201011/201011040644578940.gif', '小英翔之曼囝全套QQ表情'), ('https://qq.yh31.com/tp/Photo7/ZJBQ/201011/201011040638413966.gif', '猴齐天搞笑动漫图片'), ('https://qq.yh31.com/tp/Photo7/ZJBQ/201011/201011040637021141.gif', '快乐家族QQ表情包')]\n"
     ]
    }
   ],
   "source": [
    "t = '<img src=\"(.*?)\" alt=\"(.*?)\" width=\"160\" height=\"120\">'\n",
    "result = re.findall(t, response.text)\n",
    "print(result)\n"
   ]
  },
  {
   "cell_type": "code",
   "execution_count": 17,
   "metadata": {},
   "outputs": [],
   "source": [
    "i = 5"
   ]
  },
  {
   "cell_type": "code",
   "execution_count": 24,
   "metadata": {},
   "outputs": [
    {
     "name": "stdout",
     "output_type": "stream",
     "text": [
      "23\n",
      "24\n"
     ]
    }
   ],
   "source": [
    "image = 'data_20240113t1436'\n",
    "if not os.path.exists(image):\n",
    "    os.mkdir(image)\n",
    "\n",
    "for img in result:\n",
    "    \n",
    "    #print(img)\n",
    "    res = requests.get(img[0],headers = headers)\n",
    "    #print(res.status_code)\n",
    "    s = img[0].split('.')[-1]  #截取图片后缀，得到表情包格式，如jpg ，gif\n",
    "    #print(s)\n",
    "    if s == 'jpg':\n",
    "        i += 1\n",
    "        print(i)\n",
    "        #print('in')\n",
    "        with open(image + '/' + str(i) + '.' + s, mode='wb') as file:\n",
    "            file.write(res.content)\n",
    "    else :\n",
    "        #print('pass')\n",
    "        pass"
   ]
  },
  {
   "cell_type": "code",
   "execution_count": null,
   "metadata": {},
   "outputs": [],
   "source": []
  }
 ],
 "metadata": {
  "kernelspec": {
   "display_name": "base",
   "language": "python",
   "name": "python3"
  },
  "language_info": {
   "codemirror_mode": {
    "name": "ipython",
    "version": 3
   },
   "file_extension": ".py",
   "mimetype": "text/x-python",
   "name": "python",
   "nbconvert_exporter": "python",
   "pygments_lexer": "ipython3",
   "version": "3.10.9"
  }
 },
 "nbformat": 4,
 "nbformat_minor": 2
}
