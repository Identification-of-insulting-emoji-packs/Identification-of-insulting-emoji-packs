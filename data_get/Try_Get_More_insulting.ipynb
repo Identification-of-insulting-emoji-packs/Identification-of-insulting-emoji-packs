{
 "cells": [
  {
   "cell_type": "code",
   "execution_count": 12,
   "metadata": {},
   "outputs": [],
   "source": [
    "import requests\n",
    "import re\n",
    "import os\n",
    "from bs4 import BeautifulSoup as bs\n",
    "import winsound\n",
    "image = 'data_20240214t1847'\n",
    "if not os.path.exists(image):\n",
    "    os.mkdir(image)\n",
    "headers = {\n",
    "    'User-Agent': 'Mozilla/5.0 (Windows NT 10.0; Win64; x64; rv:98.0) Gecko/20100101 Firefox/98.0'\n",
    "    }\n",
    "\n",
    "#n = 0\n",
    "n = 0\n",
    "i = 0"
   ]
  },
  {
   "cell_type": "code",
   "execution_count": 13,
   "metadata": {},
   "outputs": [],
   "source": [
    "def getall(ht):\n",
    "    global i\n",
    "    #print(ht)\n",
    "    if ht[0] != '/':\n",
    "        response = requests.get(ht ,headers=headers)\n",
    "        response.encoding = 'utf-8'\n",
    "        #print(response.text)\n",
    "        #<img src=\"https://qq.yh31.com/tp/mr/202010101200267168.gif\">\n",
    "        t = '<img src=\"(.*?)\">'\n",
    "        result = re.findall(t, response.text)\n",
    "        #print(result)\n",
    "        dir = result[0]\n",
    "        res = requests.get(dir,headers = headers)\n",
    "        s = dir.split('.')[-1]\n",
    "        i += 1\n",
    "        with open(image + '/' + str(i) + '.' + s, mode='wb') as file:\n",
    "            file.write(res.content)\n",
    "    \"\"\"\n",
    "    sp = bs(response.text, 'html.parser')\n",
    "    imgs = sp.select(\"img[src]\")\n",
    "    #print(imgs)\n",
    "    imgs_list = []\n",
    "    for img in imgs:\n",
    "        dir = \"https://qq.yh31.com/\" + img.get('src')\n",
    "        #print(dir)\n",
    "        if img.get('src')[4] == 'P':\n",
    "            imgs_list.append(dir)\n",
    "            res = requests.get(dir,headers = headers)\n",
    "            #print(res.status_code)\n",
    "            s = dir.split('.')[-1]  #截取图片后缀，得到表情包格式，如jpg ，gif\n",
    "            #print(s)\n",
    "            if True:\n",
    "                i += 1\n",
    "                #print(i)\n",
    "                #print('in')\n",
    "                with open(image + '/' + str(i) + '.' + s, mode='wb') as file:\n",
    "                    file.write(res.content)\n",
    "        #img_\n",
    "        \"\"\"\n",
    "    return 0"
   ]
  },
  {
   "cell_type": "code",
   "execution_count": 14,
   "metadata": {},
   "outputs": [],
   "source": [
    "def get_result(n):\n",
    "    #n += 1\n",
    "    #https://qq.yh31.com/dm/mr/List_21.html\n",
    "    url = 'https://qq.yh31.com/dm/mr/List_'\n",
    "    url = url + str(n) + '.html'\n",
    "    response = requests.get(url ,headers=headers)\n",
    "    response.encoding = 'GBK'\n",
    "    response.encoding = 'utf-8'\n",
    "    #print(response.status_code)\n",
    "    #<a href=\"https://qq.yh31.com/zjbq/23107542.html\" target=\"_blank\">\n",
    "    t = '<a href=\"(.*?)\" target=\"_blank\">'\n",
    "    result = re.findall(t, response.text)\n",
    "    #print(result)\n",
    "    return result"
   ]
  },
  {
   "cell_type": "code",
   "execution_count": 15,
   "metadata": {},
   "outputs": [
    {
     "data": {
      "text/plain": [
       "<_io.BufferedRandom name='../end_music/The_International_Song.wav'>"
      ]
     },
     "execution_count": 15,
     "metadata": {},
     "output_type": "execute_result"
    }
   ],
   "source": [
    "from pydub import AudioSegment\n",
    "song=AudioSegment.from_mp3(r\"./The_International_Song.mp3\")\n",
    "song.export(r\"../end_music/The_International_Song.wav\",format='wav')"
   ]
  },
  {
   "cell_type": "code",
   "execution_count": 16,
   "metadata": {},
   "outputs": [],
   "source": [
    "def end_sound():\n",
    "    winsound.PlaySound(r\"../end_music/The_International_Song.wav\", winsound.SND_FILENAME)\n",
    "#end_sound()"
   ]
  },
  {
   "cell_type": "code",
   "execution_count": 29,
   "metadata": {},
   "outputs": [
    {
     "name": "stdout",
     "output_type": "stream",
     "text": [
      "1\n",
      "2\n",
      "3\n",
      "4\n",
      "5\n",
      "end\n"
     ]
    }
   ],
   "source": [
    "n = 49\n",
    "for times in range(1,6):\n",
    "    n += 1\n",
    "    print(times)\n",
    "    result = get_result(n)\n",
    "    j = 0\n",
    "    for html in result:\n",
    "        j += 1\n",
    "        if j % 2 == 1 or html[0] == '/':\n",
    "            continue\n",
    "        #print(html)\n",
    "        getall(html)\n",
    "print('end')\n",
    "#end_sound()"
   ]
  },
  {
   "cell_type": "code",
   "execution_count": null,
   "metadata": {},
   "outputs": [],
   "source": []
  }
 ],
 "metadata": {
  "kernelspec": {
   "display_name": "base",
   "language": "python",
   "name": "python3"
  },
  "language_info": {
   "codemirror_mode": {
    "name": "ipython",
    "version": 3
   },
   "file_extension": ".py",
   "mimetype": "text/x-python",
   "name": "python",
   "nbconvert_exporter": "python",
   "pygments_lexer": "ipython3",
   "version": "3.10.9"
  }
 },
 "nbformat": 4,
 "nbformat_minor": 2
}
