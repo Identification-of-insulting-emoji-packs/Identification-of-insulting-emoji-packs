{
 "cells": [
  {
   "cell_type": "code",
   "execution_count": 17,
   "metadata": {},
   "outputs": [],
   "source": [
    "import requests\n",
    "import re\n",
    "import os\n",
    "from bs4 import BeautifulSoup as bs\n",
    "from urllib.parse import urlparse"
   ]
  },
  {
   "cell_type": "code",
   "execution_count": 24,
   "metadata": {},
   "outputs": [],
   "source": [
    "image = 'data_20240113t1321'\n",
    "if not os.path.exists(image):\n",
    "    os.mkdir(image)\n",
    "headers = {\n",
    "    'User-Agent': 'Mozilla/5.0 (Windows NT 10.0; Win64; x64; rv:98.0) Gecko/20100101 Firefox/98.0'\n",
    "    }\n",
    "response = requests.get('https://www.dbbqb.com/',headers=headers)\n",
    "response.encoding = 'utf-8'\n",
    "#print(response.request.headers)\n",
    "#print(response.status_code)"
   ]
  },
  {
   "cell_type": "code",
   "execution_count": 25,
   "metadata": {},
   "outputs": [
    {
     "name": "stdout",
     "output_type": "stream",
     "text": [
      "<!doctype html><html lang=\"en\" style=\"height:100%\"><head><meta charset=\"utf-8\"/><link rel=\"icon\" href=\"/favicon.ico\"/><meta name=\"viewport\" content=\"width=device-width,initial-scale=1\"/><meta name=\"theme-color\" content=\"#000000\"/><meta name=\"description\" content=\"Web site created using create-react-app\"/><link rel=\"apple-touch-icon\" href=\"/logo192.png\"/><link rel=\"manifest\" href=\"/manifest.json\"/><link rel=\"stylesheet\" href=\"//resource.dbbqb.com/css.css\"/><title>逗比拯救世界--专业的表情包搜索网站</title><script crossorigin src=\"//resource.dbbqb.com/dbbqb/react.production.min.js\"></script><script crossorigin src=\"//resource.dbbqb.com/dbbqb/react-dom.production.min.js\"></script><script>var _hmt=_hmt||[];!function(){var e=document.createElement(\"script\");e.src=\"https://hm.baidu.com/hm.js?7d2469592a25c577fe82de8e71a5ae60\";var t=document.getElementsByTagName(\"script\")[0];t.parentNode.insertBefore(e,t)}()</script><script></script><style>#root{height:100%;-webkit-user-select:none;-moz-user-select:none;-ms-user-select:none;user-select:none}</style><link href=\"//resource.dbbqb.com/dbbqb/web/static/css/2.48a77e21.chunk.css\" rel=\"stylesheet\"><link href=\"//resource.dbbqb.com/dbbqb/web/static/css/main.a349685e.chunk.css\" rel=\"stylesheet\"></head><body style=\"background:#fafafa;height:100%\"><noscript>You need to enable JavaScript to run this app.</noscript><div id=\"root\"></div><script>!function(e){function t(t){for(var n,l,i=t[0],f=t[1],a=t[2],c=0,b=[];c<i.length;c++)l=i[c],Object.prototype.hasOwnProperty.call(o,l)&&o[l]&&b.push(o[l][0]),o[l]=0;for(n in f)Object.prototype.hasOwnProperty.call(f,n)&&(e[n]=f[n]);for(p&&p(t);b.length;)b.shift()();return u.push.apply(u,a||[]),r()}function r(){for(var e,t=0;t<u.length;t++){for(var r=u[t],n=!0,i=1;i<r.length;i++){var f=r[i];0!==o[f]&&(n=!1)}n&&(u.splice(t--,1),e=l(l.s=r[0]))}return e}var n={},o={1:0},u=[];function l(t){if(n[t])return n[t].exports;var r=n[t]={i:t,l:!1,exports:{}};return e[t].call(r.exports,r,r.exports,l),r.l=!0,r.exports}l.m=e,l.c=n,l.d=function(e,t,r){l.o(e,t)||Object.defineProperty(e,t,{enumerable:!0,get:r})},l.r=function(e){\"undefined\"!=typeof Symbol&&Symbol.toStringTag&&Object.defineProperty(e,Symbol.toStringTag,{value:\"Module\"}),Object.defineProperty(e,\"__esModule\",{value:!0})},l.t=function(e,t){if(1&t&&(e=l(e)),8&t)return e;if(4&t&&\"object\"==typeof e&&e&&e.__esModule)return e;var r=Object.create(null);if(l.r(r),Object.defineProperty(r,\"default\",{enumerable:!0,value:e}),2&t&&\"string\"!=typeof e)for(var n in e)l.d(r,n,function(t){return e[t]}.bind(null,n));return r},l.n=function(e){var t=e&&e.__esModule?function(){return e.default}:function(){return e};return l.d(t,\"a\",t),t},l.o=function(e,t){return Object.prototype.hasOwnProperty.call(e,t)},l.p=\"/\";var i=(f=this[\"webpackJsonpdbbqb.web.light\"]=this[\"webpackJsonpdbbqb.web.light\"]||[]).push.bind(f);f.push=t;for(var f=f.slice(),a=0;a<f.length;a++)t(f[a]);var p=i;r()}([])</script><script src=\"//resource.dbbqb.com/dbbqb/web/static/js/2.5931ae80.chunk.js\"></script><script src=\"//resource.dbbqb.com/dbbqb/web/static/js/main.931ef708.chunk.js\"></script></body></html>\n",
      "\n"
     ]
    }
   ],
   "source": [
    "print(response.text)"
   ]
  },
  {
   "cell_type": "code",
   "execution_count": 16,
   "metadata": {},
   "outputs": [
    {
     "name": "stdout",
     "output_type": "stream",
     "text": [
      "[]\n"
     ]
    }
   ],
   "source": [
    "'''\n",
    "<img class=\"jss52\" src=\"//image.dbbqb.com/202401131305/5021b78…/2jqZE\" alt style=\"width: 145px; height: 116px;\">\n",
    "'''\n",
    "t = '<img class=\"(.*?)\" src=\"(.*?)\" alt style=\"width: (.*?)px; height: (.?)px;\">'\n",
    "result = re.findall(t, response.text)\n",
    "print(result)"
   ]
  },
  {
   "cell_type": "code",
   "execution_count": null,
   "metadata": {},
   "outputs": [],
   "source": []
  }
 ],
 "metadata": {
  "kernelspec": {
   "display_name": "base",
   "language": "python",
   "name": "python3"
  },
  "language_info": {
   "codemirror_mode": {
    "name": "ipython",
    "version": 3
   },
   "file_extension": ".py",
   "mimetype": "text/x-python",
   "name": "python",
   "nbconvert_exporter": "python",
   "pygments_lexer": "ipython3",
   "version": "3.10.9"
  }
 },
 "nbformat": 4,
 "nbformat_minor": 2
}
