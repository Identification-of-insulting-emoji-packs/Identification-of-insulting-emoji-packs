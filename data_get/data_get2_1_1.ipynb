{
 "cells": [
  {
   "cell_type": "code",
   "execution_count": 2,
   "metadata": {},
   "outputs": [],
   "source": [
    "import requests\n",
    "import re\n",
    "import os\n",
    "i = 24"
   ]
  },
  {
   "cell_type": "code",
   "execution_count": 3,
   "metadata": {},
   "outputs": [],
   "source": [
    "n = 4"
   ]
  },
  {
   "cell_type": "code",
   "execution_count": 4,
   "metadata": {},
   "outputs": [
    {
     "name": "stdout",
     "output_type": "stream",
     "text": [
      "{'User-Agent': 'Mozilla/5.0 (Windows NT 10.0; Win64; x64; rv:98.0) Gecko/20100101 Firefox/98.0', 'Accept-Encoding': 'gzip, deflate, br', 'Accept': '*/*', 'Connection': 'keep-alive'}\n",
      "200\n",
      "[('https://qq.yh31.com/tp/Photo7/ZJBQ/20106/201006061936488312.gif', '百合花QQ表情图片'), ('https://qq.yh31.com/tp/qq/ZJBQ/20111/201101041139517214.gif', '水果家园Pigogo搞笑图片'), ('https://qq.yh31.com/tp/qq/ZJBQ/20111/201101041133593062.gif', 'Bingo果图片表情大全'), ('https://qq.yh31.com/tp/qq/ZJBQ/20111/201101031153373199.gif', '2兔QQ表情，画工粗犷的兔子'), ('https://qq.yh31.com/tp/qq/ZJBQ/20111/201101031116521564.gif', 'APH人物动态搞笑图片表情'), ('https://qq.yh31.com/tp/qq/ZJBQ/20111/201101031107535674.gif', 'Dears糖果娃QQ表情大全'), ('https://qq.yh31.com/tp/qq/ZJBQ/20111/201101030915537596.gif', '小C黑白色搞笑QQ表情'), ('https://qq.yh31.com/tp/Photo7/ZJBQ/201012/201012191123489898.gif', 'ladykylie女生搞笑QQ图片'), ('https://qq.yh31.com/tp/Photo7/ZJBQ/201012/201012191120583799.gif', 'loli动漫女孩图片头像'), ('https://qq.yh31.com/tp/Photo7/ZJBQ/201012/201012191116467523.gif', 'Lamji女孩专题图片'), ('https://qq.yh31.com/tp/Photo7/ZJBQ/201012/201012191114398910.gif', 'Mimio女生可爱图片大全'), ('https://qq.yh31.com/tp/Photo7/ZJBQ/201012/201012191112489086.gif', 'Midi搞笑QQ表情图片'), ('https://qq.yh31.com/tp/Photo7/ZJBQ/201012/201012191110136345.gif', 'momo莫莫图片表情下载'), ('https://qq.yh31.com/tp/Photo7/ZJBQ/201012/201012191107554152.gif', 'moresun女孩可爱图片大全'), ('https://qq.yh31.com/tp/Photo7/ZJBQ/201012/201012191102451839.gif', '招财童子QQ表情下载'), ('https://qq.yh31.com/tp/Photo7/ZJBQ/201012/201012191050022632.gif', 'pinkhair女孩专题QQ表情'), ('https://qq.yh31.com/tp/Photo7/ZJBQ/201012/201012190902077716.gif', 'QQ皇帝搞笑图片表情'), ('https://qq.yh31.com/tp/Photo7/ZJBQ/201012/201012190857109413.gif', 'QQ版李小龙图片表情'), ('https://qq.yh31.com/tp/Photo7/ZJBQ/201012/201012190849054923.gif', '阿炮仔与炮阿熊QQ表情大全'), ('https://qq.yh31.com/tp/Photo7/ZJBQ/201012/201012190847042962.gif', '阿衰正传QQ表情图片'), ('https://qq.yh31.com/tp/Photo7/ZJBQ/201012/201012190840028987.gif', '安小猪图片表情'), ('https://qq.yh31.com/tp/Photo7/ZJBQ/201012/201012190838145179.gif', '包小夏女生QQ表情'), ('https://qq.yh31.com/tp/Photo7/ZJBQ/201012/201012180918159923.gif', '丑乖搞笑图片专辑大全'), ('https://qq.yh31.com/tp/Photo7/ZJBQ/201012/201012180913051447.gif', '妲妲黑白色女孩可爱QQ图片'), ('https://qq.yh31.com/tp/Photo7/ZJBQ/201012/201012180909229551.gif', '得乐笨搞笑男孩图片'), ('https://qq.yh31.com/tp/Photo7/ZJBQ/201012/201012180901244582.gif', '房租婆QQ表情图片下载'), ('https://qq.yh31.com/tp/Photo7/ZJBQ/201012/201012180858113221.gif', '粉丸子QQ专题表情'), ('https://qq.yh31.com/tp/Photo7/ZJBQ/201012/201012151120089308.gif', '拳皇游戏人物动态图片'), ('https://qq.yh31.com/tp/Photo7/ZJBQ/201012/201012150943223570.gif', '搞笑男仔QQ表情'), ('https://qq.yh31.com/tp/Photo7/ZJBQ/201012/201012150900494058.gif', '黑背全套QQ表情图片'), ('https://qq.yh31.com/tp/Photo7/ZJBQ/201012/201012150854233238.gif', '胡渣大叔搞笑人物图片'), ('https://qq.yh31.com/tp/Photo7/ZJBQ/201012/201012150849543874.gif', '辉哥QQ表情大全'), ('https://qq.yh31.com/tp/Photo7/ZJBQ/201012/201012150846250850.gif', '混沌村QQ表情图片大全'), ('https://qq.yh31.com/tp/Photo7/ZJBQ/201012/201012141006269311.gif', '卷发MM搞笑动态图片'), ('https://qq.yh31.com/tp/Photo7/ZJBQ/201012/201012141004125663.gif', '卡洛斯QQ表情专题'), ('https://qq.yh31.com/tp/Photo7/ZJBQ/201012/201012141030449057.gif', '方块熊猫囧囧兄弟图片，熊猫囧囧qq表情大全'), ('https://qq.yh31.com/tp/Photo7/ZJBQ/201012/201012140949308975.jpg', '带文字的眼睛熊猫qq表情图片'), ('https://qq.yh31.com/tp/Photo7/ZJBQ/201012/201012140946527882.gif', '蓝球小子QQ表情，关于蓝球的图片表情'), ('https://qq.yh31.com/tp/Photo7/ZJBQ/201012/201012140932593168.gif', '路过小兵全套图片下载'), ('https://qq.yh31.com/tp/Photo7/ZJBQ/201012/201012140929582365.gif', '裸体baby搞笑QQ表情图片'), ('https://qq.yh31.com/tp/Photo7/ZJBQ/201012/201012140926433489.gif', '迷糊娃娃可爱QQ表情'), ('https://qq.yh31.com/tp/Photo7/ZJBQ/201012/201012130923470610.gif', '敏妞QQ表情下载'), ('https://qq.yh31.com/tp/Photo7/ZJBQ/201012/201012130919372297.gif', '磨米QQ表情大全'), ('https://qq.yh31.com/tp/Photo7/ZJBQ/201012/201012130913255915.gif', '阿呆与阿粉QQ表情'), ('https://qq.yh31.com/tp/Photo7/ZJBQ/201012/201012130911263738.gif', '大话西游人物搞笑图片'), ('https://qq.yh31.com/tp/Photo7/ZJBQ/201012/201012100940176889.gif', '妙妙QQ表情包'), ('https://qq.yh31.com/tp/Photo7/ZJBQ/201012/201012100927556494.gif', '三毛小子搞笑图片表情'), ('https://qq.yh31.com/tp/Photo7/ZJBQ/201012/201012100906237136.gif', '四小折QQ图片表情'), ('https://qq.yh31.com/tp/Photo7/ZJBQ/201012/201012091010505055.gif', '凸头和凹妹图片表情'), ('https://qq.yh31.com/tp/Photo7/ZJBQ/201012/201012091007183159.gif', '迷兔女孩QQ表情'), ('https://qq.yh31.com/tp/Photo7/ZJBQ/201012/201012090957170041.gif', '弯弯QQ表情图片'), ('https://qq.yh31.com/tp/Photo7/ZJBQ/201012/201012090955090693.gif', '丸子公主动漫人物图片'), ('https://qq.yh31.com/tp/Photo7/ZJBQ/201012/201012090952156908.gif', '猥琐叫兽QQ表情大全'), ('https://qq.yh31.com/tp/Photo7/ZJBQ/201012/201012090935462233.gif', '小布丁男孩QQ表情专题'), ('https://qq.yh31.com/tp/Photo7/ZJBQ/201012/201012090932525570.gif', '小痴呆QQ聊天图片大全'), ('https://qq.yh31.com/tp/Photo7/ZJBQ/201012/201012090930093905.gif', '小凤MM可爱QQ图片'), ('https://qq.yh31.com/tp/Photo7/ZJBQ/201012/201012090927044782.gif', '小红人QQ表情图片'), ('https://qq.yh31.com/tp/Photo7/ZJBQ/201012/201012090922254437.gif', '小僵尸QQ聊天表情'), ('https://qq.yh31.com/tp/Photo7/ZJBQ/201012/201012090918324936.gif', '歪歪小男孩搞笑聊天图片'), ('https://qq.yh31.com/tp/Photo7/ZJBQ/201012/201012081210120322.gif', '邦尼熊搞笑QQ表情')]\n"
     ]
    }
   ],
   "source": [
    "n = n+1\n",
    "image = 'data_20240113t1436'\n",
    "if not os.path.exists(image):\n",
    "    os.mkdir(image)\n",
    "headers = {\n",
    "    'User-Agent': 'Mozilla/5.0 (Windows NT 10.0; Win64; x64; rv:98.0) Gecko/20100101 Firefox/98.0'\n",
    "    }\n",
    "url = 'https://qq.yh31.com/zjbq/List_'\n",
    "url = url + str(n) + '.html'\n",
    "response = requests.get(url ,headers=headers)\n",
    "response.encoding = 'GBK'\n",
    "response.encoding = 'utf-8'\n",
    "print(response.request.headers)\n",
    "print(response.status_code)\n",
    "t = '<img src=\"(.*?)\" alt=\"(.*?)\" width=\"160\" height=\"120\">'\n",
    "result = re.findall(t, response.text)\n",
    "print(result)\n",
    "for img in result:\n",
    "    \n",
    "    #print(img)\n",
    "    res = requests.get(img[0],headers = headers)\n",
    "    #print(res.status_code)\n",
    "    s = img[0].split('.')[-1]  #截取图片后缀，得到表情包格式，如jpg ，gif\n",
    "    #print(s)\n",
    "    if s == 'jpg':\n",
    "        i += 1\n",
    "        print(i)\n",
    "        #print('in')\n",
    "        with open(image + '/' + str(i) + '.' + s, mode='wb') as file:\n",
    "            file.write(res.content)\n",
    "print('end')"
   ]
  },
  {
   "cell_type": "code",
   "execution_count": null,
   "metadata": {},
   "outputs": [],
   "source": []
  }
 ],
 "metadata": {
  "kernelspec": {
   "display_name": "base",
   "language": "python",
   "name": "python3"
  },
  "language_info": {
   "codemirror_mode": {
    "name": "ipython",
    "version": 3
   },
   "file_extension": ".py",
   "mimetype": "text/x-python",
   "name": "python",
   "nbconvert_exporter": "python",
   "pygments_lexer": "ipython3",
   "version": "3.10.9"
  }
 },
 "nbformat": 4,
 "nbformat_minor": 2
}
