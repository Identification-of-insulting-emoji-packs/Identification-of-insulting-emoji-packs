{
 "cells": [
  {
   "cell_type": "code",
   "execution_count": 3,
   "metadata": {},
   "outputs": [],
   "source": [
    "import os\n",
    "import shutil\n",
    "\n",
    "# 定义文件夹路径\n",
    "#folder_a = './data_demove_sized_20240213t1633_insulting_only'\n",
    "folder_b = './uninsulting'\n",
    "folder_c = './data_training_20240213/uninsulting'\n",
    "\n",
    "# 确保文件夹c存在，如果不存在则创建\n",
    "if not os.path.exists(folder_c):\n",
    "    os.makedirs(folder_c)\n",
    "\n",
    "# 遍历文件夹a中的jpg文件，并复制到文件夹c中\n",
    "   \n",
    "counter = 1\n",
    "'''\n",
    "for filename in os.listdir(folder_a):\n",
    "    if filename.endswith('.jpg'):\n",
    "        src_path = os.path.join(folder_a, filename)\n",
    "        dst_path = os.path.join(folder_c, str(counter) + '.jpg')\n",
    "        shutil.copy(src_path, dst_path)\n",
    "        counter += 1\n",
    "        '''\n",
    "\n",
    "# 继续遍历文件夹b中的jpg文件，并复制到文件夹c中\n",
    "for filename in os.listdir(folder_b):\n",
    "    if filename.endswith('.jpg'):\n",
    "        src_path = os.path.join(folder_b, filename)\n",
    "        dst_path = os.path.join(folder_c, str(counter) + '.jpg')\n",
    "        shutil.copy(src_path, dst_path)\n",
    "        counter += 1"
   ]
  },
  {
   "cell_type": "code",
   "execution_count": 2,
   "metadata": {},
   "outputs": [
    {
     "ename": "FileExistsError",
     "evalue": "[WinError 183] 当文件已存在时，无法创建该文件。: './data_training_20240213/uninsulting\\\\10.jpg' -> './data_training_20240213/uninsulting\\\\2.jpg'",
     "output_type": "error",
     "traceback": [
      "\u001b[1;31m---------------------------------------------------------------------------\u001b[0m",
      "\u001b[1;31mFileExistsError\u001b[0m                           Traceback (most recent call last)",
      "Cell \u001b[1;32mIn[2], line 20\u001b[0m\n\u001b[0;32m     18\u001b[0m src_path \u001b[38;5;241m=\u001b[39m os\u001b[38;5;241m.\u001b[39mpath\u001b[38;5;241m.\u001b[39mjoin(folder_a, filename)\n\u001b[0;32m     19\u001b[0m dst_path \u001b[38;5;241m=\u001b[39m os\u001b[38;5;241m.\u001b[39mpath\u001b[38;5;241m.\u001b[39mjoin(folder_a, new_filename)\n\u001b[1;32m---> 20\u001b[0m \u001b[43mos\u001b[49m\u001b[38;5;241;43m.\u001b[39;49m\u001b[43mrename\u001b[49m\u001b[43m(\u001b[49m\u001b[43msrc_path\u001b[49m\u001b[43m,\u001b[49m\u001b[43m \u001b[49m\u001b[43mdst_path\u001b[49m\u001b[43m)\u001b[49m\n",
      "\u001b[1;31mFileExistsError\u001b[0m: [WinError 183] 当文件已存在时，无法创建该文件。: './data_training_20240213/uninsulting\\\\10.jpg' -> './data_training_20240213/uninsulting\\\\2.jpg'"
     ]
    }
   ],
   "source": [
    "import os\n",
    "\n",
    "# 定义文件夹路径\n",
    "folder_a = './data_training_20240213/uninsulting'\n",
    "\n",
    "# 遍历文件夹a中的jpg文件，并依次重命名\n",
    "counter = 1\n",
    "for filename in sorted(os.listdir(folder_a)):\n",
    "    if filename.endswith('.jpg'):\n",
    "        # 判断文件名是否为数字\n",
    "        if filename[:-4].isdigit():\n",
    "            new_filename = f\"{counter}.jpg\"\n",
    "            counter += 1\n",
    "        else:\n",
    "            new_filename = f\"{counter}_{filename}\"\n",
    "            counter += 1\n",
    "\n",
    "        src_path = os.path.join(folder_a, filename)\n",
    "        dst_path = os.path.join(folder_a, new_filename)\n",
    "        os.rename(src_path, dst_path)"
   ]
  },
  {
   "cell_type": "code",
   "execution_count": null,
   "metadata": {},
   "outputs": [],
   "source": []
  }
 ],
 "metadata": {
  "kernelspec": {
   "display_name": "base",
   "language": "python",
   "name": "python3"
  },
  "language_info": {
   "codemirror_mode": {
    "name": "ipython",
    "version": 3
   },
   "file_extension": ".py",
   "mimetype": "text/x-python",
   "name": "python",
   "nbconvert_exporter": "python",
   "pygments_lexer": "ipython3",
   "version": "3.10.9"
  }
 },
 "nbformat": 4,
 "nbformat_minor": 2
}
