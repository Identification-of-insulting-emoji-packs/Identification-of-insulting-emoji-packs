{
 "cells": [
  {
   "cell_type": "code",
   "execution_count": 1,
   "metadata": {},
   "outputs": [],
   "source": [
    "import os\n",
    "import shutil\n",
    "\n",
    "# 定义文件夹路径\n",
    "folder_a = './data_demove_sized_20240214t1847_insulting_only'\n",
    "folder_b = './data_training_20240213/insulting'\n",
    "folder_c = './data_training_20240214/insulting'\n",
    "\n",
    "# 确保文件夹c存在，如果不存在则创建\n",
    "if not os.path.exists(folder_c):\n",
    "    os.makedirs(folder_c)\n",
    "\n",
    "# 遍历文件夹a中的jpg文件，并复制到文件夹c中\n",
    "   \n",
    "counter = 1\n",
    "\n",
    "for filename in os.listdir(folder_a):\n",
    "    if filename.endswith('.jpg'):\n",
    "        src_path = os.path.join(folder_a, filename)\n",
    "        dst_path = os.path.join(folder_c, str(counter) + '.jpg')\n",
    "        shutil.copy(src_path, dst_path)\n",
    "        counter += 1\n",
    "        \n",
    "\n",
    "# 继续遍历文件夹b中的jpg文件，并复制到文件夹c中\n",
    "for filename in os.listdir(folder_b):\n",
    "    if filename.endswith('.jpg'):\n",
    "        src_path = os.path.join(folder_b, filename)\n",
    "        dst_path = os.path.join(folder_c, str(counter) + '.jpg')\n",
    "        shutil.copy(src_path, dst_path)\n",
    "        counter += 1"
   ]
  },
  {
   "cell_type": "code",
   "execution_count": 2,
   "metadata": {},
   "outputs": [],
   "source": [
    "import os\n",
    "import shutil\n",
    "\n",
    "# 定义文件夹路径\n",
    "folder_a = './uninsulting'\n",
    "\n",
    "folder_c = './data_training_20240214/uninsulting'\n",
    "\n",
    "# 确保文件夹c存在，如果不存在则创建\n",
    "if not os.path.exists(folder_c):\n",
    "    os.makedirs(folder_c)\n",
    "\n",
    "# 遍历文件夹a中的jpg文件，并复制到文件夹c中\n",
    "   \n",
    "counter = 1\n",
    "\n",
    "for filename in os.listdir(folder_a):\n",
    "    if filename.endswith('.jpg'):\n",
    "        src_path = os.path.join(folder_a, filename)\n",
    "        dst_path = os.path.join(folder_c, str(counter) + '.jpg')\n",
    "        shutil.copy(src_path, dst_path)\n",
    "        counter += 1\n",
    "        \n",
    "\n"
   ]
  },
  {
   "cell_type": "code",
   "execution_count": null,
   "metadata": {},
   "outputs": [],
   "source": []
  }
 ],
 "metadata": {
  "kernelspec": {
   "display_name": "base",
   "language": "python",
   "name": "python3"
  },
  "language_info": {
   "codemirror_mode": {
    "name": "ipython",
    "version": 3
   },
   "file_extension": ".py",
   "mimetype": "text/x-python",
   "name": "python",
   "nbconvert_exporter": "python",
   "pygments_lexer": "ipython3",
   "version": "3.10.9"
  }
 },
 "nbformat": 4,
 "nbformat_minor": 2
}
