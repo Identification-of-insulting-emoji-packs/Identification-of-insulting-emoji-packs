{
 "cells": [
  {
   "cell_type": "code",
   "execution_count": null,
   "metadata": {},
   "outputs": [],
   "source": [
    "from PIL import Image\n",
    "import os\n",
    "\n",
    "# 指定目标大小\n",
    "target_size = (128, 128)\n",
    "\n",
    "# 指定文件夹路径\n",
    "folder_path = \"./insulting/\"\n",
    "folder_path2 = \"./insulting2/\"\n",
    "# 遍历文件夹中所有文件\n",
    "for filename in os.listdir(folder_path):\n",
    "    filepath = os.path.join(folder_path, filename)\n",
    "    filepath2 = os.path.join(folder_path2, filename)\n",
    "    print(filename)\n",
    "    # 判断是否为图片文件\n",
    "    if filepath.endswith(\".jpg\"):\n",
    "        print('k')\n",
    "        # 打开图片\n",
    "        with Image.open(filepath) as img:\n",
    "            # 调整大小\n",
    "            if img.mode == \"P\":\n",
    "                img = img.convert('RGB')\n",
    "            resized_img = img.resize(target_size)\n",
    "            # 保存修改后的图片\n",
    "            resized_img.save(filepath2)"
   ]
  }
 ],
 "metadata": {
  "language_info": {
   "name": "python"
  }
 },
 "nbformat": 4,
 "nbformat_minor": 2
}
