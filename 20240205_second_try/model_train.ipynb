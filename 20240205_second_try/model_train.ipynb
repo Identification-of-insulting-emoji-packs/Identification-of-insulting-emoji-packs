{
 "cells": [
  {
   "cell_type": "code",
   "execution_count": 15,
   "metadata": {},
   "outputs": [],
   "source": [
    "import keras\n",
    "from PIL import Image\n",
    "from keras import layers\n",
    "import matplotlib.pyplot as plt\n",
    "import numpy as np\n",
    "import cv2\n",
    "import tensorflow as tf\n",
    "from PIL import Image\n",
    "from keras.utils import to_categorical"
   ]
  },
  {
   "cell_type": "code",
   "execution_count": 16,
   "metadata": {},
   "outputs": [],
   "source": [
    "image1 = [None] * 103\n",
    "label1 = [None] * 103\n",
    "image2 = [None] * 103\n",
    "label2 = [None] * 103\n",
    "#创建数据集列表\n",
    "data_amount = 0\n",
    "\n",
    "n = 0\n",
    "\n",
    "#insulting\n",
    "for i in range(1,100):\n",
    "    #\n",
    "    data_place_one = './data_training_20240213/insulting/' + str(i) + '.jpg'\n",
    "    #print(data_place_one)\n",
    "    img_2 = cv2.imread(data_place_one)\n",
    "    if img_2 is not None:\n",
    "        n += 1\n",
    "        data_amount += 1\n",
    "        image1[i-1] = np.array(img_2)\n",
    "        label1[i-1] = 1\n",
    "    else:\n",
    "        pass\n",
    "        #print(\"Failed to load image. or not exist\")\n",
    "\n",
    "#uninsulting\n",
    "for i in range(1,100):\n",
    "    data_place_one = './data_training_20240213/uninsulting/' + str(i) + '.jpg'\n",
    "    #print(data_place_one)\n",
    "    img_2 = cv2.imread(data_place_one)\n",
    "    if img_2 is not None:\n",
    "        n += 1\n",
    "        data_amount += 1\n",
    "        image2[i-1] = np.array(img_2)\n",
    "        label2[i-1] = 0\n",
    "    else:\n",
    "        pass\n",
    "        #print(\"Failed to load image. or not exist\")\n",
    "#print(img)\n",
    "\n",
    "label = label1+label2\n",
    "image = image1+image2\n",
    "\n",
    "#删除空值\n",
    "label = [x for x in label if x != None]\n",
    "image = [x for x in image if np.any(x)]\n",
    "\n",
    "test_image = image[80:120]\n",
    "test_label = label[80:120]\n",
    "image = image[:80]+image[120:]\n",
    "label = label[:80]+label[120:]\n"
   ]
  },
  {
   "cell_type": "code",
   "execution_count": 17,
   "metadata": {},
   "outputs": [],
   "source": [
    "label = np.array(label)\n",
    "image = np.array(image)\n",
    "test_label = np.array(test_label)\n",
    "test_image = np.array(test_image)\n",
    "#print(train_label.shape)"
   ]
  },
  {
   "cell_type": "code",
   "execution_count": 34,
   "metadata": {},
   "outputs": [],
   "source": [
    "model = keras.Sequential([\n",
    "    layers.Flatten(input_shape=(128, 128, 3)), \n",
    "    layers.Dense(16,activation=\"relu\"),\n",
    "    layers.Dense(10,activation=\"relu\"),\n",
    "    layers.Dense(2,activation=\"sigmoid\")\n",
    "])\n",
    "model.compile(optimizer='rmsprop',\n",
    "              loss = 'binary_crossentropy',\n",
    "              metrics=['accuracy'])\n"
   ]
  },
  {
   "cell_type": "code",
   "execution_count": 35,
   "metadata": {},
   "outputs": [],
   "source": [
    "# 将标签数据进行one-hot编码\n",
    "label_encoded = to_categorical(label, num_classes=2)"
   ]
  },
  {
   "cell_type": "code",
   "execution_count": 47,
   "metadata": {},
   "outputs": [
    {
     "name": "stdout",
     "output_type": "stream",
     "text": [
      "Epoch 1/10\n",
      "2/2 [==============================] - 0s 13ms/step - loss: 0.8544 - accuracy: 0.9747\n",
      "Epoch 2/10\n",
      "2/2 [==============================] - 0s 12ms/step - loss: 0.9879 - accuracy: 0.9684\n",
      "Epoch 3/10\n",
      "2/2 [==============================] - 0s 12ms/step - loss: 0.9620 - accuracy: 0.9747\n",
      "Epoch 4/10\n",
      "2/2 [==============================] - 0s 13ms/step - loss: 0.8164 - accuracy: 0.9810\n",
      "Epoch 5/10\n",
      "2/2 [==============================] - 0s 17ms/step - loss: 3.3382 - accuracy: 0.9304\n",
      "Epoch 6/10\n",
      "2/2 [==============================] - 0s 19ms/step - loss: 4.9106 - accuracy: 0.9367\n",
      "Epoch 7/10\n",
      "2/2 [==============================] - 0s 8ms/step - loss: 175.7539 - accuracy: 0.5190\n",
      "Epoch 8/10\n",
      "2/2 [==============================] - 0s 14ms/step - loss: 108.4617 - accuracy: 0.5696\n",
      "Epoch 9/10\n",
      "2/2 [==============================] - 0s 12ms/step - loss: 0.8100 - accuracy: 0.9747\n",
      "Epoch 10/10\n",
      "2/2 [==============================] - 0s 9ms/step - loss: 1.0436 - accuracy: 0.9747\n"
     ]
    }
   ],
   "source": [
    "history = model.fit(image,\n",
    "        label_encoded,\n",
    "        epochs=10,\n",
    "        batch_size=100,\n",
    "        )"
   ]
  },
  {
   "cell_type": "code",
   "execution_count": 48,
   "metadata": {},
   "outputs": [],
   "source": [
    "# 将标签数据进行one-hot编码\n",
    "test_label_encoded = to_categorical(test_label, num_classes=2)"
   ]
  },
  {
   "cell_type": "code",
   "execution_count": 49,
   "metadata": {},
   "outputs": [
    {
     "name": "stdout",
     "output_type": "stream",
     "text": [
      "2/2 [==============================] - 0s 5ms/step - loss: 67.9241 - accuracy: 0.5750\n",
      "2/2 [==============================] - 0s 3ms/step\n",
      "原始： [0 0 0 0 0 1 1 1 0 1 0 0 1 1 1 0 0 0 0 1 0 0 0 0 1 1 0 0 0 0 0 0 0 0 0 0 1\n",
      " 0 1 0]\n",
      "结果： [1 1 1 1 1 1 1 1 1 1 1 1 1 1 1 1 1 1 1 0 0 0 0 0 0 0 0 0 0 0 0 0 0 0 0 0 0\n",
      " 0 0 0]\n"
     ]
    }
   ],
   "source": [
    "model.evaluate(test_image,test_label_encoded)\n",
    "y = np.argmax(model.predict(test_image[:]),axis=1)\n",
    "print('原始：',y)\n",
    "print('结果：',test_label)"
   ]
  },
  {
   "cell_type": "code",
   "execution_count": null,
   "metadata": {},
   "outputs": [],
   "source": []
  }
 ],
 "metadata": {
  "kernelspec": {
   "display_name": "base",
   "language": "python",
   "name": "python3"
  },
  "language_info": {
   "codemirror_mode": {
    "name": "ipython",
    "version": 3
   },
   "file_extension": ".py",
   "mimetype": "text/x-python",
   "name": "python",
   "nbconvert_exporter": "python",
   "pygments_lexer": "ipython3",
   "version": "3.10.9"
  }
 },
 "nbformat": 4,
 "nbformat_minor": 2
}
