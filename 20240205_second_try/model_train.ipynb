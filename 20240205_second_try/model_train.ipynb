{
 "cells": [
  {
   "cell_type": "code",
   "execution_count": 15,
   "metadata": {},
   "outputs": [],
   "source": [
    "import keras\n",
    "from PIL import Image\n",
    "from keras import layers\n",
    "import matplotlib.pyplot as plt\n",
    "import numpy as np\n",
    "import cv2\n",
    "import tensorflow as tf\n",
    "from PIL import Image\n",
    "from keras.utils import to_categorical"
   ]
  },
  {
   "cell_type": "code",
   "execution_count": 16,
   "metadata": {},
   "outputs": [],
   "source": [
    "image1 = [None] * 103\n",
    "label1 = [None] * 103\n",
    "image2 = [None] * 103\n",
    "label2 = [None] * 103\n",
    "#创建数据集列表\n",
    "data_amount = 0\n",
    "\n",
    "n = 0\n",
    "\n",
    "#insulting\n",
    "for i in range(1,100):\n",
    "    #\n",
    "    data_place_one = './data_training_20240213/insulting/' + str(i) + '.jpg'\n",
    "    #print(data_place_one)\n",
    "    img_2 = cv2.imread(data_place_one)\n",
    "    if img_2 is not None:\n",
    "        n += 1\n",
    "        data_amount += 1\n",
    "        image1[i-1] = np.array(img_2)\n",
    "        label1[i-1] = 1\n",
    "    else:\n",
    "        pass\n",
    "        #print(\"Failed to load image. or not exist\")\n",
    "\n",
    "#uninsulting\n",
    "for i in range(1,100):\n",
    "    data_place_one = './data_training_20240213/uninsulting/' + str(i) + '.jpg'\n",
    "    #print(data_place_one)\n",
    "    img_2 = cv2.imread(data_place_one)\n",
    "    if img_2 is not None:\n",
    "        n += 1\n",
    "        data_amount += 1\n",
    "        image2[i-1] = np.array(img_2)\n",
    "        label2[i-1] = 0\n",
    "    else:\n",
    "        pass\n",
    "        #print(\"Failed to load image. or not exist\")\n",
    "#print(img)\n",
    "\n",
    "label = label1+label2\n",
    "image = image1+image2\n",
    "\n",
    "#删除空值\n",
    "label = [x for x in label if x != None]\n",
    "image = [x for x in image if np.any(x)]\n",
    "\n",
    "test_image = image[80:120]\n",
    "test_label = label[80:120]\n",
    "image = image[:80]+image[120:]\n",
    "label = label[:80]+label[120:]\n"
   ]
  },
  {
   "cell_type": "code",
   "execution_count": 17,
   "metadata": {},
   "outputs": [],
   "source": [
    "label = np.array(label)\n",
    "image = np.array(image)\n",
    "test_label = np.array(test_label)\n",
    "test_image = np.array(test_image)\n",
    "#print(train_label.shape)"
   ]
  },
  {
   "cell_type": "code",
   "execution_count": 18,
   "metadata": {},
   "outputs": [],
   "source": [
    "model = keras.Sequential([\n",
    "    layers.Flatten(input_shape=(128, 128, 3)), \n",
    "    layers.Dense(16,activation=\"relu\"),\n",
    "    layers.Dense(10,activation=\"relu\"),\n",
    "    layers.Dense(2,activation=\"sigmoid\")\n",
    "])\n",
    "model.compile(optimizer='adam',\n",
    "              loss = 'binary_crossentropy',\n",
    "              metrics=['acc'])\n"
   ]
  },
  {
   "cell_type": "code",
   "execution_count": 19,
   "metadata": {},
   "outputs": [],
   "source": [
    "# 将标签数据进行one-hot编码\n",
    "label_encoded = to_categorical(label, num_classes=2)"
   ]
  },
  {
   "cell_type": "code",
   "execution_count": 20,
   "metadata": {},
   "outputs": [
    {
     "name": "stdout",
     "output_type": "stream",
     "text": [
      "Epoch 1/20\n",
      "1/1 [==============================] - 0s 440ms/step - loss: 47.2458 - acc: 0.5190\n",
      "Epoch 2/20\n",
      "1/1 [==============================] - 0s 12ms/step - loss: 1307.0781 - acc: 0.4747\n",
      "Epoch 3/20\n",
      "1/1 [==============================] - 0s 22ms/step - loss: 908.6774 - acc: 0.4937\n",
      "Epoch 4/20\n",
      "1/1 [==============================] - 0s 23ms/step - loss: 751.2729 - acc: 0.4937\n",
      "Epoch 5/20\n",
      "1/1 [==============================] - 0s 24ms/step - loss: 692.9106 - acc: 0.5000\n",
      "Epoch 6/20\n",
      "1/1 [==============================] - 0s 29ms/step - loss: 538.7169 - acc: 0.7658\n",
      "Epoch 7/20\n",
      "1/1 [==============================] - 0s 25ms/step - loss: 285.8112 - acc: 0.4937\n",
      "Epoch 8/20\n",
      "1/1 [==============================] - 0s 26ms/step - loss: 300.6341 - acc: 0.4937\n",
      "Epoch 9/20\n",
      "1/1 [==============================] - 0s 26ms/step - loss: 231.4674 - acc: 0.6772\n",
      "Epoch 10/20\n",
      "1/1 [==============================] - 0s 22ms/step - loss: 223.0047 - acc: 0.7658\n",
      "Epoch 11/20\n",
      "1/1 [==============================] - 0s 27ms/step - loss: 117.8403 - acc: 0.7405\n",
      "Epoch 12/20\n",
      "1/1 [==============================] - 0s 23ms/step - loss: 108.0996 - acc: 0.5127\n",
      "Epoch 13/20\n",
      "1/1 [==============================] - 0s 23ms/step - loss: 8.9570 - acc: 0.7468\n",
      "Epoch 14/20\n",
      "1/1 [==============================] - 0s 32ms/step - loss: 0.6025 - acc: 0.6392\n",
      "Epoch 15/20\n",
      "1/1 [==============================] - 0s 26ms/step - loss: 0.6931 - acc: 0.5063\n",
      "Epoch 16/20\n",
      "1/1 [==============================] - 0s 28ms/step - loss: 0.6931 - acc: 0.5063\n",
      "Epoch 17/20\n",
      "1/1 [==============================] - 0s 17ms/step - loss: 0.6931 - acc: 0.5063\n",
      "Epoch 18/20\n",
      "1/1 [==============================] - 0s 21ms/step - loss: 0.6931 - acc: 0.5063\n",
      "Epoch 19/20\n",
      "1/1 [==============================] - 0s 28ms/step - loss: 0.6931 - acc: 0.5063\n",
      "Epoch 20/20\n",
      "1/1 [==============================] - 0s 21ms/step - loss: 0.6931 - acc: 0.5063\n"
     ]
    }
   ],
   "source": [
    "history = model.fit(image,\n",
    "        label_encoded,\n",
    "        epochs=20,\n",
    "        batch_size=512,\n",
    "        )"
   ]
  },
  {
   "cell_type": "code",
   "execution_count": 21,
   "metadata": {},
   "outputs": [],
   "source": [
    "# 将标签数据进行one-hot编码\n",
    "test_label_encoded = to_categorical(test_label, num_classes=2)"
   ]
  },
  {
   "cell_type": "code",
   "execution_count": 22,
   "metadata": {},
   "outputs": [
    {
     "name": "stdout",
     "output_type": "stream",
     "text": [
      "2/2 [==============================] - 0s 10ms/step - loss: 0.6934 - acc: 0.4750\n",
      "2/2 [==============================] - 0s 4ms/step\n",
      "原始： [1 1 1 1 1 1 1 1 1 1 1 1 1 1 1 1 1 1 1 1 1 1 1 1 1 1 1 1 1 1 1 1 1 1 1 1 1\n",
      " 1 1 1]\n",
      "结果： [1 1 1 1 1 1 1 1 1 1 1 1 1 1 1 1 1 1 1 0 0 0 0 0 0 0 0 0 0 0 0 0 0 0 0 0 0\n",
      " 0 0 0]\n"
     ]
    }
   ],
   "source": [
    "model.evaluate(test_image,test_label_encoded)\n",
    "y = np.argmax(model.predict(test_image[:]),axis=1)\n",
    "print('原始：',y[:200])\n",
    "print('结果：',test_label[:200])"
   ]
  },
  {
   "cell_type": "code",
   "execution_count": null,
   "metadata": {},
   "outputs": [],
   "source": []
  }
 ],
 "metadata": {
  "kernelspec": {
   "display_name": "base",
   "language": "python",
   "name": "python3"
  },
  "language_info": {
   "codemirror_mode": {
    "name": "ipython",
    "version": 3
   },
   "file_extension": ".py",
   "mimetype": "text/x-python",
   "name": "python",
   "nbconvert_exporter": "python",
   "pygments_lexer": "ipython3",
   "version": "3.10.9"
  }
 },
 "nbformat": 4,
 "nbformat_minor": 2
}
