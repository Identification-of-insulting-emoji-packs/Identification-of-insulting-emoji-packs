{
 "cells": [
  {
   "cell_type": "code",
   "execution_count": 1,
   "metadata": {},
   "outputs": [],
   "source": [
    "import keras\n",
    "from PIL import Image\n",
    "from keras import layers\n",
    "import matplotlib.pyplot as plt\n",
    "import numpy as np\n",
    "import cv2\n",
    "import tensorflow as tf\n",
    "from PIL import Image\n",
    "from keras.utils import to_categorical"
   ]
  },
  {
   "cell_type": "code",
   "execution_count": 2,
   "metadata": {},
   "outputs": [],
   "source": [
    "image = [None] * 10003\n",
    "label = [None] * 10003\n",
    "#创建数据集列表\n",
    "data_amount = 0\n",
    "\n",
    "n = 0\n",
    "\n",
    "#insulting\n",
    "for i in range(1,10000):\n",
    "    #\n",
    "    data_place_one = './data_sorted/2insulting/' + str(i) + '.jpg'\n",
    "    #print(data_place_one)\n",
    "    img_2 = cv2.imread(data_place_one)\n",
    "    if img_2 is not None:\n",
    "        n += 1\n",
    "        data_amount += 1\n",
    "        image[i-1] = np.array(img_2)\n",
    "        label[i-1] = 1\n",
    "    else:\n",
    "        pass\n",
    "        #print(\"Failed to load image. or not exist\")\n",
    "\n",
    "#uninsulting\n",
    "for i in range(1,10000):\n",
    "    data_place_one = './data_sorted/1uninsulting/' + str(i) + '.jpg'\n",
    "    #print(data_place_one)\n",
    "    img_2 = cv2.imread(data_place_one)\n",
    "    if img_2 is not None:\n",
    "        n += 1\n",
    "        data_amount += 1\n",
    "        image[i-1] = np.array(img_2)\n",
    "        label[i-1] = 0\n",
    "    else:\n",
    "        pass\n",
    "        #print(\"Failed to load image. or not exist\")\n",
    "#print(img)\n",
    "\n",
    "\n",
    "#删除空值\n",
    "label = [x for x in label if x != None]\n",
    "image = [x for x in image if np.any(x)]\n"
   ]
  },
  {
   "cell_type": "code",
   "execution_count": 3,
   "metadata": {},
   "outputs": [],
   "source": [
    "label = np.array(label)\n",
    "image = np.array(image)\n",
    "#print(train_label.shape)"
   ]
  },
  {
   "cell_type": "code",
   "execution_count": 4,
   "metadata": {},
   "outputs": [],
   "source": [
    "test_image = image[800:]\n",
    "test_label = label[800:]\n",
    "image = image[:800]\n",
    "label = label[:800]"
   ]
  },
  {
   "cell_type": "code",
   "execution_count": 5,
   "metadata": {},
   "outputs": [],
   "source": [
    "model = keras.Sequential([\n",
    "    layers.Flatten(input_shape=(128, 128, 3)), \n",
    "    layers.Dense(16,activation=\"relu\"),\n",
    "    layers.Dense(10,activation=\"relu\"),\n",
    "    layers.Dense(2,activation=\"sigmoid\")\n",
    "])\n",
    "model.compile(optimizer='adam',\n",
    "              loss = 'binary_crossentropy',\n",
    "              metrics=['acc'])\n"
   ]
  },
  {
   "cell_type": "code",
   "execution_count": 6,
   "metadata": {},
   "outputs": [],
   "source": [
    "# 将标签数据进行one-hot编码\n",
    "label_encoded = to_categorical(label, num_classes=2)"
   ]
  },
  {
   "cell_type": "code",
   "execution_count": 7,
   "metadata": {},
   "outputs": [
    {
     "name": "stdout",
     "output_type": "stream",
     "text": [
      "Epoch 1/20\n",
      "2/2 [==============================] - 1s 37ms/step - loss: 134.5881 - acc: 0.7350\n",
      "Epoch 2/20\n",
      "2/2 [==============================] - 0s 29ms/step - loss: 55.0317 - acc: 0.9875\n",
      "Epoch 3/20\n",
      "2/2 [==============================] - 0s 33ms/step - loss: 132.1013 - acc: 0.9875\n",
      "Epoch 4/20\n",
      "2/2 [==============================] - 0s 34ms/step - loss: 105.1510 - acc: 0.9875\n",
      "Epoch 5/20\n",
      "2/2 [==============================] - 0s 32ms/step - loss: 127.9931 - acc: 0.9875\n",
      "Epoch 6/20\n",
      "2/2 [==============================] - 0s 21ms/step - loss: 144.2530 - acc: 0.9875\n",
      "Epoch 7/20\n",
      "2/2 [==============================] - 0s 21ms/step - loss: 153.2694 - acc: 0.9875\n",
      "Epoch 8/20\n",
      "2/2 [==============================] - 0s 43ms/step - loss: 160.3326 - acc: 0.9875\n",
      "Epoch 9/20\n",
      "2/2 [==============================] - 0s 35ms/step - loss: 162.2226 - acc: 0.9875\n",
      "Epoch 10/20\n",
      "2/2 [==============================] - 0s 31ms/step - loss: 161.6645 - acc: 0.9875\n",
      "Epoch 11/20\n",
      "2/2 [==============================] - 0s 31ms/step - loss: 158.8082 - acc: 0.9875\n",
      "Epoch 12/20\n",
      "2/2 [==============================] - 0s 33ms/step - loss: 154.0724 - acc: 0.9875\n",
      "Epoch 13/20\n",
      "2/2 [==============================] - 0s 32ms/step - loss: 148.1944 - acc: 0.9875\n",
      "Epoch 14/20\n",
      "2/2 [==============================] - 0s 37ms/step - loss: 141.5842 - acc: 0.9875\n",
      "Epoch 15/20\n",
      "2/2 [==============================] - 0s 34ms/step - loss: 135.1220 - acc: 0.9875\n",
      "Epoch 16/20\n",
      "2/2 [==============================] - 0s 33ms/step - loss: 128.3936 - acc: 0.9875\n",
      "Epoch 17/20\n",
      "2/2 [==============================] - 0s 37ms/step - loss: 116.6135 - acc: 0.9875\n",
      "Epoch 18/20\n",
      "2/2 [==============================] - 0s 35ms/step - loss: 111.3060 - acc: 0.9875\n",
      "Epoch 19/20\n",
      "2/2 [==============================] - 0s 32ms/step - loss: 107.5035 - acc: 0.9875\n",
      "Epoch 20/20\n",
      "2/2 [==============================] - 0s 32ms/step - loss: 105.4634 - acc: 0.9875\n"
     ]
    }
   ],
   "source": [
    "history = model.fit(image,\n",
    "        label_encoded,\n",
    "        epochs=20,\n",
    "        batch_size=512,\n",
    "        )"
   ]
  },
  {
   "cell_type": "code",
   "execution_count": 9,
   "metadata": {},
   "outputs": [],
   "source": [
    "# 将标签数据进行one-hot编码\n",
    "test_label_encoded = to_categorical(test_label, num_classes=2)"
   ]
  },
  {
   "cell_type": "code",
   "execution_count": 21,
   "metadata": {},
   "outputs": [
    {
     "name": "stdout",
     "output_type": "stream",
     "text": [
      "284/284 [==============================] - 1s 3ms/step - loss: 54.6417 - acc: 0.9932\n",
      "284/284 [==============================] - 1s 3ms/step\n",
      "原始： [0 0 0 0 0 0 0 0 0 0 0 0 0 0 0 0 0 0 0 0 0 0 0 0 0 0 0 0 0 0 0 0 0 0 0 0 0\n",
      " 0 0 0 0 0 0 0 0 0 0 0 0 0 0 0 0 0 0 0 0 0 0 0 0 0 0 0 0 0 0 0 0 0 0 0 0 0\n",
      " 0 0 0 0 0 0 0 0 0 0 0 0 0 0 0 0 0 0 0 0 0 0 0 0 0 0 0 0 0 0 0 0 0 0 0 0 0\n",
      " 0 0 0 0 0 0 0 0 0 0 0 0 0 0 0 0 0 0 0 0 0 0 0 0 0 0 0 0 0 0 0 0 0 0 0 0 0\n",
      " 0 0 0 0 0 0 0 0 0 0 0 0 0 0 0 0 0 0 0 0 0 0 0 0 0 0 0 0 0 0 0 0 0 0 0 0 0\n",
      " 0 0 0 0 0 0 0 0 0 0 0 0 0 0 0]\n",
      "结果： [0 0 0 0 0 0 0 0 0 0 0 0 0 0 0 0 0 0 0 0 0 0 0 0 0 0 0 0 0 0 0 0 0 0 0 0 0\n",
      " 0 0 0 0 0 0 0 0 0 0 0 0 0 0 0 0 0 0 0 0 0 0 0 0 0 0 0 0 0 0 0 0 0 0 0 0 0\n",
      " 0 0 0 0 0 0 0 0 0 0 0 0 0 0 0 0 0 0 0 0 0 0 0 0 0 0 0 0 0 0 0 0 0 0 0 0 0\n",
      " 0 0 0 0 0 0 0 0 0 0 0 0 0 0 0 0 0 0 0 0 0 0 0 0 0 0 0 0 0 0 0 0 0 0 0 0 0\n",
      " 0 0 0 0 0 0 0 0 0 0 0 0 0 0 0 0 0 0 0 0 0 0 0 0 0 0 0 0 0 0 0 0 0 0 0 0 0\n",
      " 0 0 0 0 0 0 0 0 0 0 0 0 0 0 0]\n"
     ]
    }
   ],
   "source": [
    "model.evaluate(test_image,test_label_encoded)\n",
    "y = np.argmax(model.predict(test_image[:]),axis=1)\n",
    "print('原始：',y[:200])\n",
    "print('结果：',test_label[:200])"
   ]
  },
  {
   "cell_type": "code",
   "execution_count": null,
   "metadata": {},
   "outputs": [],
   "source": []
  }
 ],
 "metadata": {
  "kernelspec": {
   "display_name": "base",
   "language": "python",
   "name": "python3"
  },
  "language_info": {
   "codemirror_mode": {
    "name": "ipython",
    "version": 3
   },
   "file_extension": ".py",
   "mimetype": "text/x-python",
   "name": "python",
   "nbconvert_exporter": "python",
   "pygments_lexer": "ipython3",
   "version": "3.10.9"
  }
 },
 "nbformat": 4,
 "nbformat_minor": 2
}
